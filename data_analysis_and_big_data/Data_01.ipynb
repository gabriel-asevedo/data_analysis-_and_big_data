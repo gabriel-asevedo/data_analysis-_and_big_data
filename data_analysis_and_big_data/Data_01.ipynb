{
  "nbformat": 4,
  "nbformat_minor": 0,
  "metadata": {
    "colab": {
      "provenance": []
    },
    "kernelspec": {
      "name": "python3",
      "display_name": "Python 3"
    },
    "language_info": {
      "name": "python"
    }
  },
  "cells": [
    {
      "cell_type": "code",
      "execution_count": null,
      "metadata": {
        "colab": {
          "base_uri": "https://localhost:8080/"
        },
        "id": "dsGi2lVXBtVw",
        "outputId": "fbb16a58-8c38-4eb8-9ba9-4bf279e99975"
      },
      "outputs": [
        {
          "output_type": "stream",
          "name": "stdout",
          "text": [
            "Conexão aberta!\n",
            "Tabela criada com sucesso!\n",
            "CEP: 01310100\n",
            "Dados inseridos com sucesso\n",
            "\n",
            "[(1, 'Avenida Sycaba', 32611196), (2, 'Praça da Sé', 1001000), (3, 'Rua Siqueira Campos', 90010000), (4, 'Avenida Dom Luís', 60160230), (5, 'Avenida Paulista', 1310100)]\n"
          ]
        }
      ],
      "source": [
        "import requests\n",
        "import sqlite3\n",
        "\n",
        "def criarTabela():\n",
        "  con.execute('CREATE TABLE IF NOT EXISTS endereco(id integer PRIMARY KEY AUTOINCREMENT, rua string, cep string);')\n",
        "  con.commit()\n",
        "\n",
        "  print(\"Tabela criada com sucesso!\");\n",
        "\n",
        "def inserirNaTabela(dadosLogradouro, cep):\n",
        "  con.execute(\"INSERT INTO endereco(rua, cep) VALUES(?, ?)\",(dadosLogradouro,cep))\n",
        "  con.commit()\n",
        "\n",
        "  print('Dados inseridos com sucesso')\n",
        "\n",
        "def mostrarTabela():\n",
        "  print(\"\")\n",
        "  consulta = con.execute('SELECT * FROM endereco;')\n",
        "  select = consulta.fetchall()\n",
        "  print(select)\n",
        "\n",
        "\n",
        "con = sqlite3.connect('cep')\n",
        "print(\"Conexão aberta!\");\n",
        "criarTabela()\n",
        "\n",
        "cep = input('CEP: ')\n",
        "\n",
        "url = f\"https://viacep.com.br/ws/{cep}/json/\"\n",
        "\n",
        "response = requests.get(url)\n",
        "\n",
        "if response.status_code == 200:\n",
        "  dadosLogradouro = response.json()['logradouro']\n",
        "  inserirNaTabela(dadosLogradouro, cep)\n",
        "  mostrarTabela()\n",
        "\n",
        "else:\n",
        "    print(response.status_code)\n",
        "    print(\"Erro: Consulta indisponível\")"
      ]
    }
  ]
}