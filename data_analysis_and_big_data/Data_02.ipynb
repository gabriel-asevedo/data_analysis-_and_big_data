{
  "nbformat": 4,
  "nbformat_minor": 0,
  "metadata": {
    "colab": {
      "provenance": []
    },
    "kernelspec": {
      "name": "python3",
      "display_name": "Python 3"
    },
    "language_info": {
      "name": "python"
    }
  },
  "cells": [
    {
      "cell_type": "code",
      "execution_count": null,
      "metadata": {
        "colab": {
          "base_uri": "https://localhost:8080/"
        },
        "id": "CnVHC868s6Jp",
        "outputId": "5568b0f1-51b7-4400-cd19-4570541d26dd"
      },
      "outputs": [
        {
          "output_type": "stream",
          "name": "stdout",
          "text": [
            "Conexão Aberta!\n",
            "Table created successfully!\n",
            "Enter a country: Brasil\n",
            "Covid cases in Brasil: 37.949.944,00\n",
            "Data entered successfully!\n",
            "\n",
            "[(1, 'England', '24.796.408,00'), (2, 'Canada', '4.777.664,00'), (3, 'USA', '109.211.904,00'), (4, 'Brasil', '37.949.944,00')]\n",
            "\n",
            "[(1, 'PaisQualquer', '24.796.408,00'), (2, 'Canada', '4.777.664,00'), (3, 'USA', '109.211.904,00'), (4, 'Brasil', '37.949.944,00')]\n"
          ]
        }
      ],
      "source": [
        "import requests\n",
        "import sqlite3\n",
        "\n",
        "def createTable() :\n",
        "  con.execute('CREATE TABLE IF NOT EXISTS endereco(id integer PRIMARY KEY AUTOINCREMENT, country string, cases float);')\n",
        "  con.commit()\n",
        "  print(\"Table created successfully!\")\n",
        "\n",
        "def insertInTable(country, cases):\n",
        "  con.execute(\"INSERT INTO endereco(country, cases) VALUES(?, ?)\",(country, cases))\n",
        "  con.commit()\n",
        "  print(\"Data entered successfully!\")\n",
        "\n",
        "def updateTable():\n",
        "  con.execute(' UPDATE endereco SET country = ? WHERE id = ?', ('PaisQualquer',1))\n",
        "  con.commit()\n",
        "\n",
        "def showTable():\n",
        "  print(\"\")\n",
        "  query = con.execute('SELECT * FROM endereco;')\n",
        "  select = query.fetchall()\n",
        "  print(select)\n",
        "\n",
        "###\n",
        "\n",
        "con = sqlite3.connect('covidCases')\n",
        "print(\"Open connection!\")\n",
        "createTable()\n",
        "\n",
        "country = input('Enter a country: ')\n",
        "\n",
        "url = f\"https://disease.sh/v3/covid-19/countries/{country}\"\n",
        "response = requests.get(url)\n",
        "\n",
        "if response.status_code == 200:\n",
        "  cases = response.json()['cases']\n",
        "  cases = f'{cases:_.2f}'\n",
        "  cases = cases.replace('.' ,  ',').replace('_' ,  '.')\n",
        "  print(f'Covid cases in {country}: {cases}')\n",
        "  insertInTable(country, cases)\n",
        "  showTable()\n",
        "\n",
        "else:\n",
        "    print(response.status_code)\n",
        "    print(\"Error: query unavailablel\")\n",
        "\n",
        "updateTable()\n",
        "showTable()\n",
        "\n",
        "\n",
        "\n",
        "\n",
        "\n",
        "\n"
      ]
    }
  ]
}